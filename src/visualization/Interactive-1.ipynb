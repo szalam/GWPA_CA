{
 "cells": [
  {
   "cell_type": "markdown",
   "metadata": {},
   "source": [
    "Restarted gwpa (Python 3.9.13)"
   ]
  },
  {
   "cell_type": "code",
   "execution_count": 1,
   "metadata": {},
   "outputs": [],
   "source": [
    "import sys\n",
    "import pandas as pd\n",
    "import numpy as np\n",
    "import matplotlib.pyplot as plt\n",
    "\n",
    "from sklearn.ensemble import RandomForestRegressor\n",
    "import ast\n",
    "from sklearn.model_selection import train_test_split\n",
    "from sklearn.metrics import mean_absolute_error, mean_squared_error, r2_score\n",
    "\n",
    "sys.path.insert(0, 'src')\n",
    "import config"
   ]
  },
  {
   "cell_type": "code",
   "execution_count": 2,
   "metadata": {},
   "outputs": [],
   "source": [
    "res_var = [\n",
    "    'Resistivity_lyrs_9_rad_2_miles'\n",
    "]"
   ]
  },
  {
   "cell_type": "code",
   "execution_count": 3,
   "metadata": {},
   "outputs": [
    {
     "name": "stderr",
     "output_type": "stream",
     "text": [
      "<ipython-input-3-7f74a37cf615>:16: DtypeWarning: Columns (0,58,59) have mixed types. Specify dtype option on import or set low_memory=False.\n",
      "  df = pd.read_csv(config.data_processed / filename)\n",
      "<ipython-input-3-7f74a37cf615>:35: ParserWarning: Length of header or names does not match length of data. This leads to a loss of data with index_col=False.\n",
      "  well_cv = pd.read_csv(config.data_processed / 'wells_inside_CV_GAMAlatest.csv',index_col=False)\n"
     ]
    }
   ],
   "source": [
    "# Constants\n",
    "rad_well = 2\n",
    "gama_old_new = 2 # 1: earlier version, 2: latest version of GAMA\n",
    "all_dom_flag = 1 # 1: All, 2: Domestic\n",
    "if all_dom_flag == 2:\n",
    "    well_type_select = {1: 'Domestic', 2: 'DOMESTIC'}.get(gama_old_new) \n",
    "else:\n",
    "    well_type_select = 'All'\n",
    "\n",
    "# Read dataset\n",
    "def load_data(version):\n",
    "    \"\"\"Load data based on version\"\"\"\n",
    "    filename = \"Dataset_processed_GAMAlatest.csv\" if version == 2 else \"Dataset_processed.csv\"\n",
    "    df = pd.read_csv(config.data_processed / filename)\n",
    "    return df\n",
    "\n",
    "def filter_data(df, well_type,all_dom_flag):\n",
    "    \"\"\"Filter\"\"\"\n",
    "    exclude_subregions = [14, 15, 10, 19, 18, 9, 6]\n",
    "    if all_dom_flag == 2:\n",
    "        df = df[df.well_type ==  well_type] \n",
    "    df = df[(df[f'thickness_abovCond_{round(.1*100)}_lyrs_9_rad_2miles'] <= 31) | (~df['SubRegion'].isin(exclude_subregions))]\n",
    "    return df\n",
    "\n",
    "# Load and process data\n",
    "df_main = load_data(gama_old_new)\n",
    "df = df_main[df_main.well_data_source == 'GAMA'].copy()\n",
    "\n",
    "df['well_type_encoded'] = pd.factorize(df['well_type'])[0]\n",
    "df['well_type_encoded'] = df['well_type_encoded'].where(df['well_type'].notna(), df['well_type'])\n",
    "\n",
    "# separate wells inside cv\n",
    "well_cv = pd.read_csv(config.data_processed / 'wells_inside_CV_GAMAlatest.csv',index_col=False)\n",
    "# Assuming df is your dataframe with all wells\n",
    "df_cv = df[df['well_id'].isin(well_cv['well_id'])]\n",
    "\n",
    "df = df_cv.copy() #filter_data(df_cv, well_type_select,all_dom_flag)"
   ]
  },
  {
   "cell_type": "code",
   "execution_count": 4,
   "metadata": {},
   "outputs": [],
   "source": [
    "# Start with the columns you explicitly defined\n",
    "columns_to_keep = ['well_id','SubRegion','APPROXIMATE LATITUDE', 'APPROXIMATE LONGITUDE']\n",
    "\n",
    "# # Now add columns for every 3-year period from 1990 to 2022\n",
    "for year in range(1990, 2022, 3):\n",
    "    key = f\"{year}-{year + 2}\" # Adjusted the end year to make it a 5-year period without overlap\n",
    "    columns_to_keep.append(f'mean_concentration_{key}')\n",
    "\n",
    "# Now add columns for every 5-year period from 1990 to 2022\n",
    "# for year in range(1990, 2022, 5):\n",
    "#     key = f\"{year}-{year + 4}\" # Adjusted the end year to make it a 5-year period without overlap\n",
    "#     columns_to_keep.append(f'mean_concentration_{key}')\n",
    "\n",
    "# Filter the DataFrame\n",
    "df2 = df[columns_to_keep]\n",
    "\n",
    "df2 = df2.dropna()"
   ]
  },
  {
   "cell_type": "code",
   "execution_count": 5,
   "metadata": {},
   "outputs": [],
   "source": [
    "df2.to_csv(config.data_processed / 'nitrate_selectPeriodsmean_gamalatest.csv')"
   ]
  },
  {
   "cell_type": "code",
   "execution_count": 6,
   "metadata": {},
   "outputs": [
    {
     "name": "stderr",
     "output_type": "stream",
     "text": [
      "/Users/szalam/gwpa/lib/python3.9/site-packages/geopandas/_compat.py:124: UserWarning: The Shapely GEOS version (3.11.1-CAPI-1.17.1) is incompatible with the GEOS version PyGEOS was compiled with (3.10.4-CAPI-1.16.2). Conversions between both will be slow.\n",
      "  warnings.warn(\n",
      "<ipython-input-6-c9d432de4d29>:5: DeprecationWarning: Shapely 2.0 is installed, but because PyGEOS is also installed, GeoPandas still uses PyGEOS by default. However, starting with version 0.14, the default will switch to Shapely. To force to use Shapely 2.0 now, you can either uninstall PyGEOS or set the environment variable USE_PYGEOS=0. You can do this before starting the Python process, or in your code before importing geopandas:\n",
      "\n",
      "import os\n",
      "os.environ['USE_PYGEOS'] = '0'\n",
      "import geopandas\n",
      "\n",
      "In the next release, GeoPandas will switch to using Shapely by default, even if PyGEOS is installed. If you only have PyGEOS installed to get speed-ups, this switch should be smooth. However, if you are using PyGEOS directly (calling PyGEOS functions on geometries from GeoPandas), this will then stop working and you are encouraged to migrate from PyGEOS to Shapely 2.0 (https://shapely.readthedocs.io/en/latest/migration_pygeos.html).\n",
      "  import geopandas as gpd\n"
     ]
    }
   ],
   "source": [
    "#==========================================\n",
    "# Codes to create spatial plot\n",
    "#==========================================\n",
    "import geopandas as gpd\n",
    "import pandas as pd\n",
    "import numpy as np\n",
    "import matplotlib.pyplot as plt\n",
    "from rasterio.transform import from_origin\n",
    "from matplotlib.animation import FuncAnimation\n",
    "from PIL import Image\n",
    "from shapely.geometry import box\n",
    "import matplotlib.pyplot as plt\n",
    "from matplotlib.animation import FuncAnimation\n",
    "import io\n",
    "import rasterio\n",
    "from matplotlib.animation import PillowWriter"
   ]
  },
  {
   "cell_type": "code",
   "execution_count": 7,
   "metadata": {},
   "outputs": [],
   "source": [
    "# Creating the 1km by 1km grid\n",
    "\n",
    "# Load shapefile\n",
    "cv = gpd.read_file(config.shapefile_dir / 'cv.shp')\n",
    "\n",
    "# Define grid size\n",
    "grid_size = 0.10 # 0.01 approx equal to 1km\n",
    "\n",
    "# Define the boundaries for your grid\n",
    "x_min,y_min,x_max,y_max = cv.total_bounds\n",
    "\n",
    "# Create the grid\n",
    "x_grid = np.arange(x_min,x_max,grid_size)\n",
    "y_grid = np.arange(y_min,y_max,grid_size)\n",
    "grid = []\n",
    "\n",
    "for x in x_grid:\n",
    "    for y in y_grid:\n",
    "        grid.append(gpd.GeoDataFrame({'geometry': gpd.GeoSeries(box(x, y, x+grid_size, y+grid_size))}))\n",
    "\n",
    "# Concatenate all dataframes to a single one\n",
    "grid = pd.concat(grid, ignore_index=True)"
   ]
  },
  {
   "cell_type": "code",
   "execution_count": 8,
   "metadata": {},
   "outputs": [
    {
     "name": "stderr",
     "output_type": "stream",
     "text": [
      "/Users/szalam/gwpa/lib/python3.9/site-packages/IPython/core/interactiveshell.py:3448: FutureWarning: The `op` parameter is deprecated and will be removed in a future release. Please use the `predicate` parameter instead.\n",
      "  if await self.run_code(code, result, async_=asy):\n",
      "/Users/szalam/gwpa/lib/python3.9/site-packages/IPython/core/interactiveshell.py:3448: FutureWarning: The `op` parameter is deprecated and will be removed in a future release. Please use the `predicate` parameter instead.\n",
      "  if await self.run_code(code, result, async_=asy):\n",
      "/Users/szalam/gwpa/lib/python3.9/site-packages/IPython/core/interactiveshell.py:3448: FutureWarning: The `op` parameter is deprecated and will be removed in a future release. Please use the `predicate` parameter instead.\n",
      "  if await self.run_code(code, result, async_=asy):\n",
      "/Users/szalam/gwpa/lib/python3.9/site-packages/IPython/core/interactiveshell.py:3448: FutureWarning: The `op` parameter is deprecated and will be removed in a future release. Please use the `predicate` parameter instead.\n",
      "  if await self.run_code(code, result, async_=asy):\n",
      "/Users/szalam/gwpa/lib/python3.9/site-packages/IPython/core/interactiveshell.py:3448: FutureWarning: The `op` parameter is deprecated and will be removed in a future release. Please use the `predicate` parameter instead.\n",
      "  if await self.run_code(code, result, async_=asy):\n",
      "/Users/szalam/gwpa/lib/python3.9/site-packages/IPython/core/interactiveshell.py:3448: FutureWarning: The `op` parameter is deprecated and will be removed in a future release. Please use the `predicate` parameter instead.\n",
      "  if await self.run_code(code, result, async_=asy):\n",
      "/Users/szalam/gwpa/lib/python3.9/site-packages/IPython/core/interactiveshell.py:3448: FutureWarning: The `op` parameter is deprecated and will be removed in a future release. Please use the `predicate` parameter instead.\n",
      "  if await self.run_code(code, result, async_=asy):\n",
      "/Users/szalam/gwpa/lib/python3.9/site-packages/IPython/core/interactiveshell.py:3448: FutureWarning: The `op` parameter is deprecated and will be removed in a future release. Please use the `predicate` parameter instead.\n",
      "  if await self.run_code(code, result, async_=asy):\n",
      "/Users/szalam/gwpa/lib/python3.9/site-packages/IPython/core/interactiveshell.py:3448: FutureWarning: The `op` parameter is deprecated and will be removed in a future release. Please use the `predicate` parameter instead.\n",
      "  if await self.run_code(code, result, async_=asy):\n",
      "/Users/szalam/gwpa/lib/python3.9/site-packages/IPython/core/interactiveshell.py:3448: FutureWarning: The `op` parameter is deprecated and will be removed in a future release. Please use the `predicate` parameter instead.\n",
      "  if await self.run_code(code, result, async_=asy):\n",
      "/Users/szalam/gwpa/lib/python3.9/site-packages/IPython/core/interactiveshell.py:3448: FutureWarning: The `op` parameter is deprecated and will be removed in a future release. Please use the `predicate` parameter instead.\n",
      "  if await self.run_code(code, result, async_=asy):\n",
      "/Users/szalam/gwpa/lib/python3.9/site-packages/IPython/core/interactiveshell.py:3448: FutureWarning: The `op` parameter is deprecated and will be removed in a future release. Please use the `predicate` parameter instead.\n",
      "  if await self.run_code(code, result, async_=asy):\n"
     ]
    }
   ],
   "source": [
    "# Spatially averaging wells inside each grid\n",
    "df2 = df2.rename(columns={'APPROXIMATE LATITUDE': 'latitude', 'APPROXIMATE LONGITUDE': 'longitude'})\n",
    "# Convert df to a GeoDataFrame\n",
    "gdf = gpd.GeoDataFrame(df2, geometry=gpd.points_from_xy(df2.longitude, df2.latitude))\n",
    "\n",
    "# Ensure the GeoDataFrames have the same CRS (Coordinate Reference System)\n",
    "gdf.crs = grid.crs\n",
    "\n",
    "# Perform a spatial join\n",
    "joined = gpd.sjoin(gdf, grid, how=\"inner\", op='within')\n",
    "\n",
    "# For each time period, calculate the mean concentration for each grid cell\n",
    "mean_concentration_columns = [column for column in df2.columns if \"mean_concentration\" in column]\n",
    "\n",
    "for column in mean_concentration_columns:\n",
    "    # Create a GeoDataFrame with only the wells that have data for this time period\n",
    "    gdf_time_period = gdf[gdf[column].notna()].copy()\n",
    "\n",
    "    # Perform a spatial join\n",
    "    joined = gpd.sjoin(gdf_time_period, grid, how=\"inner\", op='within')\n",
    "\n",
    "    # Calculate the mean concentration for each grid cell\n",
    "    mean_concentrations = joined.groupby('index_right')[column].mean()\n",
    "\n",
    "    # Add this data as a new column to the grid GeoDataFrame\n",
    "    grid[column] = mean_concentrations\n",
    "\n",
    "# Reset the index of the grid DataFrame\n",
    "grid.reset_index(drop=True, inplace=True)"
   ]
  },
  {
   "cell_type": "code",
   "execution_count": 9,
   "metadata": {},
   "outputs": [
    {
     "data": {
      "text/plain": [
       "<Axes: >"
      ]
     },
     "execution_count": 9,
     "metadata": {},
     "output_type": "execute_result"
    },
    {
     "data": {
      "image/png": "[encoded data removed]",
      "text/plain": [
       "<Figure size 640x480 with 1 Axes>"
      ]
     },
     "metadata": {},
     "output_type": "display_data"
    }
   ],
   "source": [
    "gdf.plot()"
   ]
  },
  {
   "cell_type": "code",
   "execution_count": 10,
   "metadata": {},
   "outputs": [
    {
     "name": "stderr",
     "output_type": "stream",
     "text": [
      "<ipython-input-10-7b8a961fab2f>:16: DtypeWarning: Columns (0,58,59) have mixed types. Specify dtype option on import or set low_memory=False.\n",
      "  df = pd.read_csv(config.data_processed / filename)\n"
     ]
    }
   ],
   "source": [
    "# Constants\n",
    "rad_well = 2\n",
    "gama_old_new = 2 # 1: earlier version, 2: latest version of GAMA\n",
    "all_dom_flag = 1 # 1: All, 2: Domestic\n",
    "if all_dom_flag == 2:\n",
    "    well_type_select = {1: 'Domestic', 2: 'DOMESTIC'}.get(gama_old_new) \n",
    "else:\n",
    "    well_type_select = 'All'\n",
    "\n",
    "# Read dataset\n",
    "def load_data(version):\n",
    "    \"\"\"Load data based on version\"\"\"\n",
    "    filename = \"Dataset_processed_GAMAlatest.csv\" if version == 2 else \"Dataset_processed.csv\"\n",
    "    df = pd.read_csv(config.data_processed / filename)\n",
    "    return df\n",
    "\n",
    "def filter_data(df, well_type,all_dom_flag):\n",
    "    \"\"\"Filter\"\"\"\n",
    "    exclude_subregions = [14, 15, 10, 19, 18, 9, 6]\n",
    "    if all_dom_flag == 2:\n",
    "        df = df[df.well_type ==  well_type] \n",
    "    df = df[(df[f'thickness_abovCond_{round(.1*100)}_lyrs_9_rad_2miles'] <= 31) | (~df['SubRegion'].isin(exclude_subregions))]\n",
    "    return df\n",
    "\n",
    "# Load and process data\n",
    "df_main = load_data(gama_old_new)\n",
    "df = df_main[df_main.well_data_source == 'GAMA'].copy()\n",
    "\n",
    "df['well_type_encoded'] = pd.factorize(df['well_type'])[0]\n",
    "df['well_type_encoded'] = df['well_type_encoded'].where(df['well_type'].notna(), df['well_type'])\n",
    "\n",
    "# separate wells inside cv\n",
    "# well_cv = pd.read_csv(config.data_processed / 'wells_inside_CV_GAMAlatest.csv',index_col=False)\n",
    "# # Assuming df is your dataframe with all wells\n",
    "# df_cv = df[df['well_id'].isin(well_cv['well_id'])]\n",
    "\n",
    "# df = df_cv.copy() #filter_data(df_cv, well_type_select,all_dom_flag)"
   ]
  },
  {
   "cell_type": "code",
   "execution_count": 11,
   "metadata": {},
   "outputs": [],
   "source": [
    "# Start with the columns you explicitly defined\n",
    "columns_to_keep = ['well_id','SubRegion','APPROXIMATE LATITUDE', 'APPROXIMATE LONGITUDE']\n",
    "\n",
    "# # Now add columns for every 3-year period from 1990 to 2022\n",
    "for year in range(1990, 2022, 3):\n",
    "    key = f\"{year}-{year + 2}\" # Adjusted the end year to make it a 5-year period without overlap\n",
    "    columns_to_keep.append(f'mean_concentration_{key}')\n",
    "\n",
    "# Now add columns for every 5-year period from 1990 to 2022\n",
    "# for year in range(1990, 2022, 5):\n",
    "#     key = f\"{year}-{year + 4}\" # Adjusted the end year to make it a 5-year period without overlap\n",
    "#     columns_to_keep.append(f'mean_concentration_{key}')\n",
    "\n",
    "# Filter the DataFrame\n",
    "df2 = df[columns_to_keep]\n",
    "\n",
    "df2 = df2.dropna()"
   ]
  },
  {
   "cell_type": "code",
   "execution_count": 12,
   "metadata": {},
   "outputs": [],
   "source": [
    "df2.to_csv(config.data_processed / 'nitrate_selectPeriodsmean_gamalatest.csv')"
   ]
  },
  {
   "cell_type": "code",
   "execution_count": 13,
   "metadata": {},
   "outputs": [],
   "source": [
    "#==========================================\n",
    "# Codes to create spatial plot\n",
    "#==========================================\n",
    "import geopandas as gpd\n",
    "import pandas as pd\n",
    "import numpy as np\n",
    "import matplotlib.pyplot as plt\n",
    "from rasterio.transform import from_origin\n",
    "from matplotlib.animation import FuncAnimation\n",
    "from PIL import Image\n",
    "from shapely.geometry import box\n",
    "import matplotlib.pyplot as plt\n",
    "from matplotlib.animation import FuncAnimation\n",
    "import io\n",
    "import rasterio\n",
    "from matplotlib.animation import PillowWriter"
   ]
  },
  {
   "cell_type": "code",
   "execution_count": 14,
   "metadata": {},
   "outputs": [],
   "source": [
    "# Creating the 1km by 1km grid\n",
    "\n",
    "# Load shapefile\n",
    "cv = gpd.read_file(config.shapefile_dir / 'cv.shp')\n",
    "\n",
    "# Define grid size\n",
    "grid_size = 0.10 # 0.01 approx equal to 1km\n",
    "\n",
    "# Define the boundaries for your grid\n",
    "x_min,y_min,x_max,y_max = cv.total_bounds\n",
    "\n",
    "# Create the grid\n",
    "x_grid = np.arange(x_min,x_max,grid_size)\n",
    "y_grid = np.arange(y_min,y_max,grid_size)\n",
    "grid = []\n",
    "\n",
    "for x in x_grid:\n",
    "    for y in y_grid:\n",
    "        grid.append(gpd.GeoDataFrame({'geometry': gpd.GeoSeries(box(x, y, x+grid_size, y+grid_size))}))\n",
    "\n",
    "# Concatenate all dataframes to a single one\n",
    "grid = pd.concat(grid, ignore_index=True)"
   ]
  },
  {
   "cell_type": "code",
   "execution_count": 15,
   "metadata": {},
   "outputs": [
    {
     "name": "stderr",
     "output_type": "stream",
     "text": [
      "/Users/szalam/gwpa/lib/python3.9/site-packages/IPython/core/interactiveshell.py:3448: FutureWarning: The `op` parameter is deprecated and will be removed in a future release. Please use the `predicate` parameter instead.\n",
      "  if await self.run_code(code, result, async_=asy):\n",
      "/Users/szalam/gwpa/lib/python3.9/site-packages/IPython/core/interactiveshell.py:3448: FutureWarning: The `op` parameter is deprecated and will be removed in a future release. Please use the `predicate` parameter instead.\n",
      "  if await self.run_code(code, result, async_=asy):\n",
      "/Users/szalam/gwpa/lib/python3.9/site-packages/IPython/core/interactiveshell.py:3448: FutureWarning: The `op` parameter is deprecated and will be removed in a future release. Please use the `predicate` parameter instead.\n",
      "  if await self.run_code(code, result, async_=asy):\n",
      "/Users/szalam/gwpa/lib/python3.9/site-packages/IPython/core/interactiveshell.py:3448: FutureWarning: The `op` parameter is deprecated and will be removed in a future release. Please use the `predicate` parameter instead.\n",
      "  if await self.run_code(code, result, async_=asy):\n",
      "/Users/szalam/gwpa/lib/python3.9/site-packages/IPython/core/interactiveshell.py:3448: FutureWarning: The `op` parameter is deprecated and will be removed in a future release. Please use the `predicate` parameter instead.\n",
      "  if await self.run_code(code, result, async_=asy):\n",
      "/Users/szalam/gwpa/lib/python3.9/site-packages/IPython/core/interactiveshell.py:3448: FutureWarning: The `op` parameter is deprecated and will be removed in a future release. Please use the `predicate` parameter instead.\n",
      "  if await self.run_code(code, result, async_=asy):\n",
      "/Users/szalam/gwpa/lib/python3.9/site-packages/IPython/core/interactiveshell.py:3448: FutureWarning: The `op` parameter is deprecated and will be removed in a future release. Please use the `predicate` parameter instead.\n",
      "  if await self.run_code(code, result, async_=asy):\n",
      "/Users/szalam/gwpa/lib/python3.9/site-packages/IPython/core/interactiveshell.py:3448: FutureWarning: The `op` parameter is deprecated and will be removed in a future release. Please use the `predicate` parameter instead.\n",
      "  if await self.run_code(code, result, async_=asy):\n",
      "/Users/szalam/gwpa/lib/python3.9/site-packages/IPython/core/interactiveshell.py:3448: FutureWarning: The `op` parameter is deprecated and will be removed in a future release. Please use the `predicate` parameter instead.\n",
      "  if await self.run_code(code, result, async_=asy):\n",
      "/Users/szalam/gwpa/lib/python3.9/site-packages/IPython/core/interactiveshell.py:3448: FutureWarning: The `op` parameter is deprecated and will be removed in a future release. Please use the `predicate` parameter instead.\n",
      "  if await self.run_code(code, result, async_=asy):\n",
      "/Users/szalam/gwpa/lib/python3.9/site-packages/IPython/core/interactiveshell.py:3448: FutureWarning: The `op` parameter is deprecated and will be removed in a future release. Please use the `predicate` parameter instead.\n",
      "  if await self.run_code(code, result, async_=asy):\n",
      "/Users/szalam/gwpa/lib/python3.9/site-packages/IPython/core/interactiveshell.py:3448: FutureWarning: The `op` parameter is deprecated and will be removed in a future release. Please use the `predicate` parameter instead.\n",
      "  if await self.run_code(code, result, async_=asy):\n"
     ]
    }
   ],
   "source": [
    "# Spatially averaging wells inside each grid\n",
    "df2 = df2.rename(columns={'APPROXIMATE LATITUDE': 'latitude', 'APPROXIMATE LONGITUDE': 'longitude'})\n",
    "# Convert df to a GeoDataFrame\n",
    "gdf = gpd.GeoDataFrame(df2, geometry=gpd.points_from_xy(df2.longitude, df2.latitude))\n",
    "\n",
    "# Ensure the GeoDataFrames have the same CRS (Coordinate Reference System)\n",
    "gdf.crs = grid.crs\n",
    "\n",
    "# Perform a spatial join\n",
    "joined = gpd.sjoin(gdf, grid, how=\"inner\", op='within')\n",
    "\n",
    "# For each time period, calculate the mean concentration for each grid cell\n",
    "mean_concentration_columns = [column for column in df2.columns if \"mean_concentration\" in column]\n",
    "\n",
    "for column in mean_concentration_columns:\n",
    "    # Create a GeoDataFrame with only the wells that have data for this time period\n",
    "    gdf_time_period = gdf[gdf[column].notna()].copy()\n",
    "\n",
    "    # Perform a spatial join\n",
    "    joined = gpd.sjoin(gdf_time_period, grid, how=\"inner\", op='within')\n",
    "\n",
    "    # Calculate the mean concentration for each grid cell\n",
    "    mean_concentrations = joined.groupby('index_right')[column].mean()\n",
    "\n",
    "    # Add this data as a new column to the grid GeoDataFrame\n",
    "    grid[column] = mean_concentrations\n",
    "\n",
    "# Reset the index of the grid DataFrame\n",
    "grid.reset_index(drop=True, inplace=True)"
   ]
  },
  {
   "cell_type": "code",
   "execution_count": 16,
   "metadata": {},
   "outputs": [
    {
     "data": {
      "text/plain": [
       "<Axes: >"
      ]
     },
     "execution_count": 16,
     "metadata": {},
     "output_type": "execute_result"
    },
    {
     "data": {
      "image/png": "[encoded data removed]",
      "text/plain": [
       "<Figure size 640x480 with 1 Axes>"
      ]
     },
     "metadata": {},
     "output_type": "display_data"
    }
   ],
   "source": [
    "gdf.plot()"
   ]
  }
 ],
 "metadata": {
  "kernelspec": {
   "display_name": "gwpa",
   "language": "python",
   "name": "python3"
  },
  "language_info": {
   "codemirror_mode": {
    "name": "ipython",
    "version": 3
   },
   "file_extension": ".py",
   "mimetype": "text/x-python",
   "name": "python",
   "nbconvert_exporter": "python",
   "pygments_lexer": "ipython3",
   "version": "3.9.13"
  }
 },
 "nbformat": 4,
 "nbformat_minor": 2
}
