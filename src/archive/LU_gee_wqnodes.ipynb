{
 "cells": [
  {
   "cell_type": "markdown",
   "id": "068120d7",
   "metadata": {},
   "source": [
    "Useful link: https://tutorials.geemap.org/AssetManagement/extract_values/\n",
    "https://tutorials.geemap.org/AssetManagement/extract_values/\n",
    "https://www.youtube.com/watch?v=bzjlTbEByZo"
   ]
  },
  {
   "cell_type": "markdown",
   "id": "3afde5b7",
   "metadata": {},
   "source": [
    "## Test code to extract data from map interactively"
   ]
  },
  {
   "cell_type": "code",
   "execution_count": 1,
   "id": "c79e345e",
   "metadata": {},
   "outputs": [],
   "source": [
    "import os\n",
    "import ee\n",
    "import geemap"
   ]
  },
  {
   "cell_type": "code",
   "execution_count": 4,
   "id": "e3b3c9dc",
   "metadata": {
    "scrolled": false
   },
   "outputs": [
    {
     "data": {
      "application/vnd.jupyter.widget-view+json": {
       "model_id": "2efb0fcc9a9b44819d328d03d968b860",
       "version_major": 2,
       "version_minor": 0
      },
      "text/plain": [
       "Map(center=[20, 0], controls=(WidgetControl(options=['position', 'transparent_bg'], widget=HBox(children=(Togg…"
      ]
     },
     "execution_count": 4,
     "metadata": {},
     "output_type": "execute_result"
    }
   ],
   "source": [
    "Map = geemap.Map()\n",
    "Map"
   ]
  },
  {
   "cell_type": "markdown",
   "id": "cb52a6ad",
   "metadata": {},
   "source": [
    "### Add data to the map"
   ]
  },
  {
   "cell_type": "code",
   "execution_count": 5,
   "id": "93f4118e",
   "metadata": {},
   "outputs": [],
   "source": [
    "landsat7 = ee.Image('LE7_TOA_5YEAR/1999_2003') \\\n",
    "    .select([0, 1, 2, 3, 4, 6])\n",
    "landsat_vis = {\n",
    "    'bands': ['B4', 'B3', 'B2'], \n",
    "    'gamma': 1.7\n",
    "}\n",
    "Map.addLayer(landsat7, landsat_vis, \"LE7_TOA_5YEAR/1999_2003\")\n",
    "\n",
    "Map.set_plot_options(add_marker_cluster=True)"
   ]
  },
  {
   "cell_type": "markdown",
   "id": "bc511abc",
   "metadata": {},
   "source": [
    "## Extract data from map using interactive Region Reductions"
   ]
  },
  {
   "cell_type": "code",
   "execution_count": 6,
   "id": "5a3ebfcf",
   "metadata": {},
   "outputs": [],
   "source": [
    "import geemap.colormaps as cm"
   ]
  },
  {
   "cell_type": "code",
   "execution_count": 10,
   "id": "f25fac30",
   "metadata": {},
   "outputs": [],
   "source": [
    "m = geemap.Map()"
   ]
  },
  {
   "cell_type": "code",
   "execution_count": 14,
   "id": "41a2e48f",
   "metadata": {},
   "outputs": [
    {
     "data": {
      "application/vnd.jupyter.widget-view+json": {
       "model_id": "5c6daff1a3dc4d6194a8cbbb68aa66d9",
       "version_major": 2,
       "version_minor": 0
      },
      "text/plain": [
       "Map(bottom=25923.0, center=[36.49638952000399, -119.4983302282514], controls=(WidgetControl(options=['position…"
      ]
     },
     "execution_count": 14,
     "metadata": {},
     "output_type": "execute_result"
    }
   ],
   "source": [
    "collection = ee.ImageCollection(\"USDA/NASS/CDL\") \\\n",
    "    .filterDate('2008-01-01', '2019-12-31') \\\n",
    "    .select('cropland')\n",
    "\n",
    "# Convert the image collection to an image.\n",
    "image = collection.toBands()\n",
    "\n",
    "palette = cm.palettes.ndvi\n",
    "\n",
    "ndvi_vis = {\n",
    "  'min': 0.0,\n",
    "  'max': 255.0,\n",
    "  'palette': palette\n",
    "}\n",
    "\n",
    "m.addLayer(image, {}, 'CDL Time-series')\n",
    "m.addLayer(image.select(0), ndvi_vis, 'CDL VIS')\n",
    "\n",
    "m"
   ]
  },
  {
   "cell_type": "markdown",
   "id": "6931f8b1",
   "metadata": {},
   "source": [
    "### Set reducer"
   ]
  },
  {
   "cell_type": "code",
   "execution_count": 15,
   "id": "c252a38c",
   "metadata": {},
   "outputs": [],
   "source": [
    "m.set_plot_options(add_marker_cluster=True, marker=None)\n",
    "m.roi_reducer = ee.Reducer.mean()"
   ]
  },
  {
   "cell_type": "code",
   "execution_count": 21,
   "id": "aa410769",
   "metadata": {},
   "outputs": [
    {
     "name": "stdout",
     "output_type": "stream",
     "text": [
      "The shapefile has been saved to: /Volumes/GoogleDrive/Shared drives/GWAttribution/data/processed/CDL/cdl_point.shp\n"
     ]
    }
   ],
   "source": [
    "out_dir = os.path.expanduser('/Volumes/GoogleDrive/Shared drives/GWAttribution/data/processed/CDL')\n",
    "# out_csv = os.path.join(out_dir, 'points.csv')\n",
    "out_shp = os.path.join(out_dir, 'cdl_test.shp')\n",
    "m.extract_values_to_points(out_shp)"
   ]
  },
  {
   "cell_type": "markdown",
   "id": "a670c11c",
   "metadata": {},
   "source": [
    "## Test code to extract values using point shapefile"
   ]
  },
  {
   "cell_type": "code",
   "execution_count": 30,
   "id": "1bf55ed1",
   "metadata": {},
   "outputs": [],
   "source": [
    "m2 = geemap.Map()"
   ]
  },
  {
   "cell_type": "code",
   "execution_count": 31,
   "id": "83c0cd0e",
   "metadata": {},
   "outputs": [
    {
     "data": {
      "application/vnd.jupyter.widget-view+json": {
       "model_id": "a97ca375bfdc452bb0727c60fd31b276",
       "version_major": 2,
       "version_minor": 0
      },
      "text/plain": [
       "Map(center=[20, 0], controls=(WidgetControl(options=['position', 'transparent_bg'], widget=HBox(children=(Togg…"
      ]
     },
     "execution_count": 31,
     "metadata": {},
     "output_type": "execute_result"
    }
   ],
   "source": [
    "collection = ee.ImageCollection(\"USDA/NASS/CDL\") \\\n",
    "    .filterDate('2008-01-01', '2019-12-31') \\\n",
    "    .select('cropland')\n",
    "\n",
    "# Convert the image collection to an image.\n",
    "image = collection.toBands()\n",
    "\n",
    "palette = cm.palettes.ndvi\n",
    "\n",
    "cdl_vis = {\n",
    "  'min': 0.0,\n",
    "  'max': 255.0,\n",
    "  'palette': palette\n",
    "}\n",
    "\n",
    "m2.addLayer(image, {}, 'CDL Time-series')\n",
    "m2.addLayer(image.select(0), cdl_vis, 'CDL VIS')\n",
    "\n",
    "m2"
   ]
  },
  {
   "cell_type": "code",
   "execution_count": 23,
   "id": "066e843c",
   "metadata": {},
   "outputs": [
    {
     "name": "stdout",
     "output_type": "stream",
     "text": [
      "Downloading https://github.com/giswqs/data/raw/main/us/us_cities.zip ...\n",
      "Unzipping us_cities.zip ...\n",
      "Data downloaded to: /Volumes/GoogleDrive/Shared drives/GWAttribution/data/processed/CDL/us_cities\n"
     ]
    }
   ],
   "source": [
    "work_dir = os.path.expanduser('/Volumes/GoogleDrive/Shared drives/GWAttribution/data/processed/CDL')\n",
    "in_shp = os.path.join(work_dir, 'us_cities.shp')\n",
    "if not os.path.exists(in_shp):\n",
    "    data_url = 'https://github.com/giswqs/data/raw/main/us/us_cities.zip'\n",
    "    geemap.download_from_url(data_url, out_dir=work_dir)"
   ]
  },
  {
   "cell_type": "code",
   "execution_count": 32,
   "id": "22b82b50",
   "metadata": {},
   "outputs": [],
   "source": [
    "in_fc = geemap.shp_to_ee(in_shp)\n",
    "m2.addLayer(in_fc, {}, 'Cities')"
   ]
  },
  {
   "cell_type": "markdown",
   "id": "fb704911",
   "metadata": {},
   "source": [
    "Export pixel values to shapefile"
   ]
  },
  {
   "cell_type": "code",
   "execution_count": 33,
   "id": "68a72714",
   "metadata": {},
   "outputs": [
    {
     "name": "stdout",
     "output_type": "stream",
     "text": [
      "Generating URL ...\n",
      "Downloading data from https://earthengine.googleapis.com/v1alpha/projects/earthengine-legacy/tables/3fc904fc12303cd86eb01ead6eec7bee-d2e6f48c64d5f304b2cdce37a141ca84:getFeatures\n",
      "Please wait ...\n",
      "Data downloaded to /Volumes/GoogleDrive/Shared drives/GWAttribution/data/processed/CDL/cdl_cities.shp\n"
     ]
    }
   ],
   "source": [
    "out_shp = os.path.join(work_dir,'cdl_cities.shp')\n",
    "geemap.extract_values_to_points(in_fc, image, out_shp)"
   ]
  },
  {
   "cell_type": "markdown",
   "id": "5a360576",
   "metadata": {},
   "source": [
    "Export pixel values as csv"
   ]
  },
  {
   "cell_type": "code",
   "execution_count": 34,
   "id": "b87288ba",
   "metadata": {},
   "outputs": [
    {
     "name": "stdout",
     "output_type": "stream",
     "text": [
      "Generating URL ...\n",
      "Downloading data from https://earthengine.googleapis.com/v1alpha/projects/earthengine-legacy/tables/bcd03c734d1c8b2a0e1e7885d38f94ca-502f11272117477ccaf55708da16e35b:getFeatures\n",
      "Please wait ...\n",
      "Data downloaded to /Volumes/GoogleDrive/Shared drives/GWAttribution/data/processed/CDL/cdl_cities2.csv\n"
     ]
    }
   ],
   "source": [
    "out_csv = os.path.join(work_dir, 'cdl_cities2.csv')\n",
    "geemap.extract_values_to_points(in_fc, image, out_csv)"
   ]
  },
  {
   "cell_type": "markdown",
   "id": "f0025cd0",
   "metadata": {},
   "source": [
    "## Extract land use at water quality measurement locations"
   ]
  },
  {
   "cell_type": "code",
   "execution_count": 35,
   "id": "aac14a50",
   "metadata": {},
   "outputs": [
    {
     "data": {
      "application/vnd.jupyter.widget-view+json": {
       "model_id": "f36944be6e61439792e7bb51617803db",
       "version_major": 2,
       "version_minor": 0
      },
      "text/plain": [
       "Map(center=[20, 0], controls=(WidgetControl(options=['position', 'transparent_bg'], widget=HBox(children=(Togg…"
      ]
     },
     "execution_count": 35,
     "metadata": {},
     "output_type": "execute_result"
    }
   ],
   "source": [
    "m3 = geemap.Map()\n",
    "\n",
    "collection = ee.ImageCollection(\"USDA/NASS/CDL\") \\\n",
    "    .filterDate('2008-01-01', '2021-12-31') \\\n",
    "    .select('cropland')\n",
    "\n",
    "# Convert the image collection to an image.\n",
    "image = collection.toBands()\n",
    "\n",
    "palette = cm.palettes.ndvi\n",
    "\n",
    "cdl_vis = {\n",
    "  'min': 0.0,\n",
    "  'max': 255.0,\n",
    "  'palette': palette\n",
    "}\n",
    "\n",
    "m3.addLayer(image, {}, 'CDL Time-series')\n",
    "m3.addLayer(image.select(0), cdl_vis, 'CDL VIS')\n",
    "\n",
    "m3"
   ]
  },
  {
   "cell_type": "code",
   "execution_count": 36,
   "id": "3c05e695",
   "metadata": {},
   "outputs": [],
   "source": [
    "work_dir = os.path.expanduser('/Volumes/GoogleDrive/Shared drives/GWAttribution/data/processed')\n",
    "in_shp = os.path.join(work_dir, 'NO3_loc_abovthreshold/NO3_abovthreshold.shp')"
   ]
  },
  {
   "cell_type": "code",
   "execution_count": 37,
   "id": "362a1681",
   "metadata": {},
   "outputs": [],
   "source": [
    "in_fc = geemap.shp_to_ee(in_shp)\n",
    "m3.addLayer(in_fc, {}, 'WQ nodes')"
   ]
  },
  {
   "cell_type": "code",
   "execution_count": 41,
   "id": "0d5e5efb",
   "metadata": {},
   "outputs": [
    {
     "name": "stdout",
     "output_type": "stream",
     "text": [
      "Generating URL ...\n",
      "Downloading data from https://earthengine.googleapis.com/v1alpha/projects/earthengine-legacy/tables/29b132b67d6507cddb64e806380c9fc0-2b5629ce2c6e677624521c7b616674ad:getFeatures\n",
      "Please wait ...\n",
      "Data downloaded to /Volumes/GoogleDrive/Shared drives/GWAttribution/data/processed/CDL/cdl_no3_wqnodes2.csv\n"
     ]
    }
   ],
   "source": [
    "# Extract values as csv\n",
    "out_csv = os.path.join(work_dir, 'CDL/cdl_no3_wqnodes2.csv')\n",
    "geemap.extract_values_to_points(in_fc, image, out_csv)"
   ]
  },
  {
   "cell_type": "code",
   "execution_count": null,
   "id": "235e4826",
   "metadata": {},
   "outputs": [],
   "source": [
    "# Extract values to shp\n",
    "# out_shp = os.path.join(work_dir,'CDL/cdl_no3_wqnodes.shp')\n",
    "# geemap.extract_values_to_points(in_fc, image, out_shp)"
   ]
  },
  {
   "cell_type": "code",
   "execution_count": 42,
   "id": "9af8e163",
   "metadata": {},
   "outputs": [
    {
     "data": {
      "text/plain": [
       "1.5"
      ]
     },
     "execution_count": 42,
     "metadata": {},
     "output_type": "execute_result"
    }
   ],
   "source": [
    "6/4\n"
   ]
  },
  {
   "cell_type": "code",
   "execution_count": 43,
   "id": "c0d9b83c",
   "metadata": {},
   "outputs": [
    {
     "data": {
      "text/plain": [
       "37.333333333333336"
      ]
     },
     "execution_count": 43,
     "metadata": {},
     "output_type": "execute_result"
    }
   ],
   "source": [
    "56/1.5\n"
   ]
  },
  {
   "cell_type": "code",
   "execution_count": null,
   "id": "139e5272",
   "metadata": {},
   "outputs": [],
   "source": []
  }
 ],
 "metadata": {
  "kernelspec": {
   "display_name": "cfprj",
   "language": "python",
   "name": "cfprj"
  },
  "language_info": {
   "codemirror_mode": {
    "name": "ipython",
    "version": 3
   },
   "file_extension": ".py",
   "mimetype": "text/x-python",
   "name": "python",
   "nbconvert_exporter": "python",
   "pygments_lexer": "ipython3",
   "version": "3.9.13"
  }
 },
 "nbformat": 4,
 "nbformat_minor": 5
}
